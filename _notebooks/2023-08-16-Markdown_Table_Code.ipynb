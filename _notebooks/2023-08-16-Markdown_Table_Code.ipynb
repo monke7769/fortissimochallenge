{
 "cells": [
  {
   "cell_type": "markdown",
   "metadata": {},
   "source": [
    "---\n",
    "toc: true\n",
    "comments: true\n",
    "layout: post\n",
    "title: IPYNB Table, Code\n",
    "description:  Example!!! This sample shows markdown cell, markdown table, markdown code fencing, and code cells.\n",
    "courses: { compsci: {week: 1} }\n",
    "type: hacks\n",
    "---"
   ]
  },
  {
   "cell_type": "markdown",
   "metadata": {},
   "source": [
    "| Truth Table      | Description | Test Text     |\n",
    "| :-------        |    :----:   |          -------: |\n",
    "| Yes      | No       | No   |\n",
    "| No   | Hi        | What's this      |"
   ]
  },
  {
   "cell_type": "markdown",
   "metadata": {},
   "source": [
    "```\n",
    "print(\"This code is fenced)\n",
    "```"
   ]
  },
  {
   "cell_type": "code",
   "execution_count": null,
   "metadata": {},
   "outputs": [],
   "source": [
    "print(\"This is code cell guys\")"
   ]
  }
 ],
 "metadata": {
  "language_info": {
   "name": "python"
  },
  "orig_nbformat": 4
 },
 "nbformat": 4,
 "nbformat_minor": 2
}
